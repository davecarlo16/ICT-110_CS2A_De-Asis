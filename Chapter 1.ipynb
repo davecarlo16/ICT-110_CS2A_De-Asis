{
 "cells": [
  {
   "cell_type": "markdown",
   "id": "f5f12bac",
   "metadata": {},
   "source": [
    "#### Exercise 1\n",
    "\n",
    "Each line of code below contains an error. Fix the error and explain in a comment the reason for the error."
   ]
  },
  {
   "cell_type": "code",
   "execution_count": 1,
   "id": "7e997562",
   "metadata": {},
   "outputs": [
    {
     "name": "stdout",
     "output_type": "stream",
     "text": [
      "Hello world!\n"
     ]
    }
   ],
   "source": [
    "print('Hello world!') #the letter p in print is in capital letter. change it to small letter to fix."
   ]
  },
  {
   "cell_type": "code",
   "execution_count": 2,
   "id": "c5f7008c",
   "metadata": {},
   "outputs": [
    {
     "name": "stdout",
     "output_type": "stream",
     "text": [
      "Hello world!\n"
     ]
    }
   ],
   "source": [
    "print('Hello world!') #there's no open parentheses. put parentheses to fix the code."
   ]
  },
  {
   "cell_type": "code",
   "execution_count": 3,
   "id": "5c0aa61e",
   "metadata": {},
   "outputs": [
    {
     "name": "stdout",
     "output_type": "stream",
     "text": [
      "Hello world!\n"
     ]
    }
   ],
   "source": [
    "print('Hello world!') #There's a missing qoutation. add qoutation after exclamation point."
   ]
  },
  {
   "cell_type": "code",
   "execution_count": 4,
   "id": "fc3562c8",
   "metadata": {},
   "outputs": [
    {
     "name": "stdout",
     "output_type": "stream",
     "text": [
      "Hello world!\n"
     ]
    }
   ],
   "source": [
    "print('Hello world!') #the other one is double qoutation with exclamation. change it to one qoutation."
   ]
  },
  {
   "cell_type": "markdown",
   "id": "b0e0f0fd",
   "metadata": {},
   "source": [
    "#### Exercise 2\n",
    "What is the output of the code below? [PEW]"
   ]
  },
  {
   "cell_type": "code",
   "execution_count": 6,
   "id": "40adca59",
   "metadata": {},
   "outputs": [
    {
     "name": "stdout",
     "output_type": "stream",
     "text": [
      "44\n"
     ]
    }
   ],
   "source": [
    "x = 43\n",
    "x = x + 1 #44\n",
    "print(x)"
   ]
  },
  {
   "cell_type": "markdown",
   "id": "5d8dc823",
   "metadata": {},
   "source": [
    "#### Exercise 3\n",
    "The code below contains an error. Fix the error and explain in a comment the reason for the error.\n"
   ]
  },
  {
   "cell_type": "code",
   "execution_count": 7,
   "id": "d575bf76",
   "metadata": {},
   "outputs": [
    {
     "name": "stdout",
     "output_type": "stream",
     "text": [
      "44\n"
     ]
    }
   ],
   "source": [
    "x = 43\n",
    "x = x + 1 #the X variable is in Capital Letter. Changing it to small letter fix the code.\n",
    "print(x)"
   ]
  },
  {
   "cell_type": "code",
   "execution_count": null,
   "id": "4cb9a6b4",
   "metadata": {},
   "outputs": [],
   "source": []
  }
 ],
 "metadata": {
  "kernelspec": {
   "display_name": "Python 3 (ipykernel)",
   "language": "python",
   "name": "python3"
  },
  "language_info": {
   "codemirror_mode": {
    "name": "ipython",
    "version": 3
   },
   "file_extension": ".py",
   "mimetype": "text/x-python",
   "name": "python",
   "nbconvert_exporter": "python",
   "pygments_lexer": "ipython3",
   "version": "3.11.4"
  }
 },
 "nbformat": 4,
 "nbformat_minor": 5
}
